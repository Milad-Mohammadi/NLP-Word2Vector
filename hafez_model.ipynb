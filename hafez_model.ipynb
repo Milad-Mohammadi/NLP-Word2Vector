{
  "nbformat": 4,
  "nbformat_minor": 0,
  "metadata": {
    "colab": {
      "name": "hafez_model.ipynb",
      "provenance": []
    },
    "kernelspec": {
      "name": "python3",
      "display_name": "Python 3"
    },
    "language_info": {
      "name": "python"
    }
  },
  "cells": [
    {
      "cell_type": "markdown",
      "source": [
        "# PreProcess\n",
        "\n",
        "---\n",
        "\n"
      ],
      "metadata": {
        "id": "o38FIWrODusU"
      }
    },
    {
      "cell_type": "markdown",
      "source": [
        "## Read DataSet"
      ],
      "metadata": {
        "id": "XB9C4rk729vn"
      }
    },
    {
      "cell_type": "code",
      "execution_count": 13,
      "metadata": {
        "id": "RJxdvrESCjDl"
      },
      "outputs": [],
      "source": [
        "with open (\"hafez.txt\", \"r\") as dataset:\n",
        "    data = dataset.read().splitlines()"
      ]
    },
    {
      "cell_type": "code",
      "source": [
        "print(\"dataLen: \", len(data))\n",
        "data"
      ],
      "metadata": {
        "id": "rLf8MSKCFzS6"
      },
      "execution_count": null,
      "outputs": []
    },
    {
      "cell_type": "markdown",
      "source": [
        "## Read Stop Words"
      ],
      "metadata": {
        "id": "o9M1DgCg3MDg"
      }
    },
    {
      "cell_type": "code",
      "source": [
        "with open (\"fa_stop_words.txt\", \"r\") as fa_stop_words:\n",
        "    stop_words = fa_stop_words.read().splitlines()"
      ],
      "metadata": {
        "id": "WOcwLHXTF1iW"
      },
      "execution_count": 15,
      "outputs": []
    },
    {
      "cell_type": "code",
      "source": [
        "stop_words"
      ],
      "metadata": {
        "id": "R4aF4YtVGD-6"
      },
      "execution_count": null,
      "outputs": []
    },
    {
      "cell_type": "markdown",
      "source": [
        "## Normalize with Hazm"
      ],
      "metadata": {
        "id": "tuy4eEFz3QaU"
      }
    },
    {
      "cell_type": "code",
      "source": [
        "pip install hazm"
      ],
      "metadata": {
        "id": "0_UPQvI83TmK"
      },
      "execution_count": null,
      "outputs": []
    },
    {
      "cell_type": "code",
      "source": [
        "from hazm import *"
      ],
      "metadata": {
        "id": "stJGO03q5zjF"
      },
      "execution_count": 3,
      "outputs": []
    },
    {
      "cell_type": "code",
      "source": [
        "normalizer = Normalizer()\n",
        "normalized_data = []\n",
        "for line in data:\n",
        "  normalized_data.append(normalizer.normalize(line))"
      ],
      "metadata": {
        "id": "fZ0BK1EY53xt"
      },
      "execution_count": 8,
      "outputs": []
    },
    {
      "cell_type": "code",
      "source": [
        "normalized_data"
      ],
      "metadata": {
        "id": "w5GE9B919UQ4"
      },
      "execution_count": null,
      "outputs": []
    },
    {
      "cell_type": "markdown",
      "source": [
        "## Tokenize with Hazm"
      ],
      "metadata": {
        "id": "nnhz9adK9yKO"
      }
    },
    {
      "cell_type": "code",
      "source": [
        "tokenized_data = []\n",
        "for line in normalized_data:\n",
        "  tokenized_data.append(word_tokenize(line))"
      ],
      "metadata": {
        "id": "-jsyndnn92KB"
      },
      "execution_count": 10,
      "outputs": []
    },
    {
      "cell_type": "code",
      "source": [
        "tokenized_data"
      ],
      "metadata": {
        "id": "WDQ17gep-z_c"
      },
      "execution_count": null,
      "outputs": []
    },
    {
      "cell_type": "markdown",
      "source": [
        "## Remove Stop Words"
      ],
      "metadata": {
        "id": "lSkGm9cTDnra"
      }
    },
    {
      "cell_type": "code",
      "source": [
        "clear_data = []\n",
        "for line in tokenized_data:\n",
        "  clear_line = []\n",
        "  for word in line:\n",
        "    if word not in stop_words:\n",
        "      clear_line.append(word)\n",
        "  clear_data.append(clear_line)"
      ],
      "metadata": {
        "id": "onhCuzYbDsH3"
      },
      "execution_count": 17,
      "outputs": []
    },
    {
      "cell_type": "code",
      "source": [
        "clear_data"
      ],
      "metadata": {
        "id": "FC8TkstXEom7"
      },
      "execution_count": null,
      "outputs": []
    }
  ]
}