{
  "cells": [
    {
      "cell_type": "markdown",
      "metadata": {
        "id": "o38FIWrODusU"
      },
      "source": [
        "# PreProcess"
      ]
    },
    {
      "cell_type": "code",
      "source": [
        "import io\n",
        "import re\n",
        "import string\n",
        "import tqdm\n",
        "\n",
        "import numpy as np\n",
        "\n",
        "import tensorflow as tf\n",
        "from tensorflow.keras import layers\n",
        "\n",
        "SEED = 42\n",
        "AUTOTUNE = tf.data.AUTOTUNE"
      ],
      "metadata": {
        "id": "04qu2wE1vtZM"
      },
      "execution_count": null,
      "outputs": []
    },
    {
      "cell_type": "code",
      "execution_count": null,
      "metadata": {
        "id": "RJxdvrESCjDl"
      },
      "outputs": [],
      "source": [
        "#Read DataSet and Stop words\n",
        "\n",
        "with open (\"hafez.txt\", \"r\") as dataset:\n",
        "    data = dataset.read().splitlines()\n",
        "    text_ds = tf.data.TextLineDataset(dataset.read()).filter(lambda x: tf.cast(tf.strings.length(x), bool))\n",
        "\n",
        "with open (\"fa_stop_words.txt\", \"r\") as fa_stop_words:\n",
        "    stop_words = fa_stop_words.read().splitlines()    "
      ]
    },
    {
      "cell_type": "code",
      "execution_count": null,
      "metadata": {
        "colab": {
          "base_uri": "https://localhost:8080/"
        },
        "id": "rLf8MSKCFzS6",
        "outputId": "cb44fdc2-7f68-41fc-a102-521909e8dcd2"
      },
      "outputs": [
        {
          "output_type": "stream",
          "name": "stdout",
          "text": [
            "data: \n",
            "1:  ﻿ \n",
            "2:  الا يا ايها الساقي ادر كاسا و ناولها \n",
            "3:  كه عشق آسان نمود اول ولي افتاد مشكل‌ها\n",
            "\n",
            "stop_words: \n",
            "1:  ؟ \n",
            "2:  آباد \n",
            "3:  آخ\n",
            "<FilterDataset element_spec=TensorSpec(shape=(), dtype=tf.string, name=None)>\n"
          ]
        }
      ],
      "source": [
        "print(\"data:\", \"\\n1: \", data[0], \"\\n2: \", data[1], \"\\n3: \", data[2])\n",
        "print(\"\\nstop_words:\", \"\\n1: \", stop_words[18], \"\\n2: \", stop_words[19], \"\\n3: \", stop_words[20])"
      ]
    },
    {
      "cell_type": "markdown",
      "metadata": {
        "id": "-H3zQowC4X9A"
      },
      "source": [
        "\n",
        "\n",
        "---\n",
        "\n"
      ]
    },
    {
      "cell_type": "code",
      "execution_count": null,
      "metadata": {
        "id": "0_UPQvI83TmK"
      },
      "outputs": [],
      "source": [
        "!pip install hazm\n",
        "\n",
        "from hazm import *\n",
        "import numpy as np\n",
        "import random\n",
        "import pandas as pd\n",
        "import tensorflow as tf"
      ]
    },
    {
      "cell_type": "code",
      "execution_count": null,
      "metadata": {
        "colab": {
          "base_uri": "https://localhost:8080/"
        },
        "id": "fZ0BK1EY53xt",
        "outputId": "cd4c0dff-65cb-42d4-a999-f4e92c2d7f8a"
      },
      "outputs": [
        {
          "output_type": "stream",
          "name": "stdout",
          "text": [
            "Normalized:  الا یا ایها الساقی ادر کاسا و ناولها\n",
            "Tokenized:  ['الا', 'یا', 'ایها', 'الساقی', 'ادر', 'کاسا', 'و', 'ناولها']\n",
            "Cleared:  ['الساقی', 'ادر', 'کاسا', 'ناولها']\n",
            "Words:  الساق size:  34185\n",
            "Non Duplicate Words:  الساق size:  5760\n",
            "Sentence:  الساق ادر کاسا ناول\n"
          ]
        }
      ],
      "source": [
        "normalizer = Normalizer()\n",
        "stemmer = Stemmer()\n",
        "normalized_data = []\n",
        "tokenized_data = []\n",
        "clear_data = []\n",
        "stemmed_data = []\n",
        "clear_sentences = []\n",
        "words = []\n",
        "clear_words = []\n",
        "\n",
        "#### Normalize\n",
        "for line in data:\n",
        "  if line and line != '\\ufeff':\n",
        "    normalized_data.append(normalizer.normalize(line))\n",
        "\n",
        "\n",
        "#### Tokenize\n",
        "for line in normalized_data:\n",
        "  tokenized_data.append(word_tokenize(line))\n",
        "\n",
        "\n",
        "#### Remove stop words\n",
        "for line in tokenized_data:\n",
        "  clear_line = []\n",
        "  for word in line:\n",
        "    if word not in stop_words:\n",
        "      clear_line.append(word)\n",
        "  clear_data.append(clear_line)\n",
        "\n",
        "\n",
        "\n",
        "#### Stemize\n",
        "for line in clear_data:\n",
        "  stemmed_line = []\n",
        "  for word in line:\n",
        "    stemmed_line.append(stemmer.stem(word))\n",
        "  stemmed_data.append(stemmed_line)\n",
        "\n",
        "\n",
        "#### Create Bag of words\n",
        "for i in range(len(stemmed_data)):\n",
        "  words.extend(stemmed_data[i])\n",
        "\n",
        "\n",
        "#### Convert words to sentences\n",
        "for line in stemmed_data:\n",
        "  clear_sentences.append(\" \".join(line))\n",
        "clear_sentences = [item for item in clear_sentences if item]\n",
        "\n",
        "\n",
        "# Remove duplicate words\n",
        "for i in words: \n",
        "  if i not in clear_words: \n",
        "    clear_words.append(i) \n",
        "\n",
        "\n",
        "print(\"Normalized: \", normalized_data[0])\n",
        "print(\"Tokenized: \", tokenized_data[0])\n",
        "print(\"Cleared: \", clear_data[0])\n",
        "print(\"Words: \", words[0], \"size: \", len(words))\n",
        "print(\"Non Duplicate Words: \", clear_words[0], \"size: \", len(clear_words))\n",
        "print(\"Sentence: \", clear_sentences[0])"
      ]
    },
    {
      "cell_type": "markdown",
      "metadata": {
        "id": "y1QxGIOjErbC"
      },
      "source": [
        "# Process"
      ]
    },
    {
      "cell_type": "code",
      "source": [
        "from tensorflow.keras.preprocessing.text import Tokenizer\n",
        "from tensorflow.keras.preprocessing.sequence import pad_sequences\n",
        "\n",
        "sequences = tokenizer.texts_to_sequences(clear_sentences)\n",
        "max_len = 100\n",
        "\n",
        "inverse_vocab = pad_sequences(sequences, padding = 'pre', maxlen= max_len)\n",
        "print(inverse_vocab)"
      ],
      "metadata": {
        "id": "9het9yBQvTs0",
        "colab": {
          "base_uri": "https://localhost:8080/"
        },
        "outputId": "76d4ca4a-30a9-4c14-b637-ebccb55735b8"
      },
      "execution_count": null,
      "outputs": [
        {
          "output_type": "stream",
          "name": "stdout",
          "text": [
            "[[   0    0    0 ... 2990 2135 2991]\n",
            " [   0    0    0 ...  587  150  384]\n",
            " [   0    0    0 ...   40  215  946]\n",
            " ...\n",
            " [   0    0    0 ...    0   28  101]\n",
            " [   0    0    0 ... 2782  446   44]\n",
            " [   0    0    0 ...    0   94    2]]\n"
          ]
        }
      ]
    },
    {
      "cell_type": "code",
      "source": [
        "# Generates skip-gram pairs with negative sampling for a list of sequences\n",
        "# (int-encoded sentences) based on window size, number of negative samples\n",
        "# and vocabulary size.\n",
        "def generate_training_data(sequences, window_size, num_ns, vocab_size, seed):\n",
        "  # Elements of each training example are appended to these lists.\n",
        "  targets, contexts, labels = [], [], []\n",
        "\n",
        "  # Build the sampling table for `vocab_size` tokens.\n",
        "  sampling_table = tf.keras.preprocessing.sequence.make_sampling_table(vocab_size)\n",
        "\n",
        "  # Iterate over all sequences (sentences) in the dataset.\n",
        "  for sequence in tqdm.tqdm(sequences):\n",
        "\n",
        "    # Generate positive skip-gram pairs for a sequence (sentence).\n",
        "    positive_skip_grams, _ = tf.keras.preprocessing.sequence.skipgrams(\n",
        "          sequence,\n",
        "          vocabulary_size=vocab_size,\n",
        "          sampling_table=sampling_table,\n",
        "          window_size=window_size,\n",
        "          negative_samples=0)\n",
        "\n",
        "    # Iterate over each positive skip-gram pair to produce training examples\n",
        "    # with a positive context word and negative samples.\n",
        "    for target_word, context_word in positive_skip_grams:\n",
        "      context_class = tf.expand_dims(\n",
        "          tf.constant([context_word], dtype=\"int64\"), 1)\n",
        "      negative_sampling_candidates, _, _ = tf.random.log_uniform_candidate_sampler(\n",
        "          true_classes=context_class,\n",
        "          num_true=1,\n",
        "          num_sampled=num_ns,\n",
        "          unique=True,\n",
        "          range_max=vocab_size,\n",
        "          seed=SEED,\n",
        "          name=\"negative_sampling\")\n",
        "\n",
        "      # Build context and label vectors (for one target word)\n",
        "      negative_sampling_candidates = tf.expand_dims(\n",
        "          negative_sampling_candidates, 1)\n",
        "\n",
        "      context = tf.concat([context_class, negative_sampling_candidates], 0)\n",
        "      label = tf.constant([1] + [0]*num_ns, dtype=\"int64\")\n",
        "\n",
        "      # Append each element from the training example to global lists.\n",
        "      targets.append(target_word)\n",
        "      contexts.append(context)\n",
        "      labels.append(label)\n",
        "\n",
        "  return targets, contexts, labels\n"
      ],
      "metadata": {
        "id": "Z4v8tu8S3are"
      },
      "execution_count": null,
      "outputs": []
    },
    {
      "cell_type": "code",
      "source": [
        "vocab_size = len(clear_words)\n",
        "\n",
        "\n",
        "targets, contexts, labels = generate_training_data(\n",
        "    sequences=sequences,\n",
        "    window_size=2,\n",
        "    num_ns=4,\n",
        "    vocab_size=vocab_size,\n",
        "    seed=SEED)\n",
        "\n",
        "targets = np.array(targets)\n",
        "contexts = np.array(contexts)[:,:,0]\n",
        "labels = np.array(labels)\n",
        "\n",
        "print('\\n')\n",
        "print(f\"targets.shape: {targets.shape}\")\n",
        "print(f\"contexts.shape: {contexts.shape}\")\n",
        "print(f\"labels.shape: {labels.shape}\")\n"
      ],
      "metadata": {
        "colab": {
          "base_uri": "https://localhost:8080/"
        },
        "id": "Ksxw0-Lr2aAp",
        "outputId": "007edfef-5e74-4b2d-f3a1-6dafd30509f1"
      },
      "execution_count": null,
      "outputs": [
        {
          "output_type": "stream",
          "name": "stderr",
          "text": [
            "100%|██████████| 8384/8384 [00:02<00:00, 2990.76it/s]\n"
          ]
        },
        {
          "output_type": "stream",
          "name": "stdout",
          "text": [
            "\n",
            "\n",
            "targets.shape: (15833,)\n",
            "contexts.shape: (15833, 5)\n",
            "labels.shape: (15833, 5)\n"
          ]
        }
      ]
    },
    {
      "cell_type": "code",
      "source": [
        "BATCH_SIZE = 1024\n",
        "BUFFER_SIZE = 10000\n",
        "dataset = tf.data.Dataset.from_tensor_slices(((targets, contexts), labels))\n",
        "dataset = dataset.shuffle(BUFFER_SIZE).batch(BATCH_SIZE, drop_remainder=True)\n",
        "print(dataset)"
      ],
      "metadata": {
        "colab": {
          "base_uri": "https://localhost:8080/"
        },
        "id": "5KDxRF9f5Pqs",
        "outputId": "e522addd-c49a-4ff4-fa49-e3442ce12e9e"
      },
      "execution_count": null,
      "outputs": [
        {
          "output_type": "stream",
          "name": "stdout",
          "text": [
            "<BatchDataset element_spec=((TensorSpec(shape=(1024,), dtype=tf.int64, name=None), TensorSpec(shape=(1024, 5), dtype=tf.int64, name=None)), TensorSpec(shape=(1024, 5), dtype=tf.int64, name=None))>\n"
          ]
        }
      ]
    },
    {
      "cell_type": "code",
      "source": [
        "dataset = dataset.cache().prefetch(buffer_size=AUTOTUNE)\n",
        "print(dataset)"
      ],
      "metadata": {
        "colab": {
          "base_uri": "https://localhost:8080/"
        },
        "id": "7ht_4_VK5Uir",
        "outputId": "a2d58bcc-fc53-497b-fd34-5d59cbdb4a7c"
      },
      "execution_count": null,
      "outputs": [
        {
          "output_type": "stream",
          "name": "stdout",
          "text": [
            "<PrefetchDataset element_spec=((TensorSpec(shape=(1024,), dtype=tf.int64, name=None), TensorSpec(shape=(1024, 5), dtype=tf.int64, name=None)), TensorSpec(shape=(1024, 5), dtype=tf.int64, name=None))>\n"
          ]
        }
      ]
    },
    {
      "cell_type": "code",
      "source": [
        "class Word2Vec(tf.keras.Model):\n",
        "  def __init__(self, vocab_size, embedding_dim):\n",
        "    super(Word2Vec, self).__init__()\n",
        "    self.target_embedding = layers.Embedding(vocab_size,\n",
        "                                      embedding_dim,\n",
        "                                      input_length=1,\n",
        "                                      name=\"w2v_embedding\")\n",
        "    self.context_embedding = layers.Embedding(vocab_size,\n",
        "                                       embedding_dim,\n",
        "                                       input_length=num_ns+1)\n",
        "\n",
        "  def call(self, pair):\n",
        "    target, context = pair\n",
        "    # target: (batch, dummy?)  # The dummy axis doesn't exist in TF2.7+\n",
        "    # context: (batch, context)\n",
        "    if len(target.shape) == 2:\n",
        "      target = tf.squeeze(target, axis=1)\n",
        "    # target: (batch,)\n",
        "    word_emb = self.target_embedding(target)\n",
        "    # word_emb: (batch, embed)\n",
        "    context_emb = self.context_embedding(context)\n",
        "    # context_emb: (batch, context, embed)\n",
        "    dots = tf.einsum('be,bce->bc', word_emb, context_emb)\n",
        "    # dots: (batch, context)\n",
        "    return dots"
      ],
      "metadata": {
        "id": "bGdpnnx95bUX"
      },
      "execution_count": null,
      "outputs": []
    },
    {
      "cell_type": "code",
      "source": [
        "def custom_loss(x_logit, y_true):\n",
        "      return tf.nn.sigmoid_cross_entropy_with_logits(logits=x_logit, labels=y_true)"
      ],
      "metadata": {
        "id": "oWFFZnct5fM3"
      },
      "execution_count": null,
      "outputs": []
    },
    {
      "cell_type": "code",
      "source": [
        "embedding_dim = 128\n",
        "word2vec = Word2Vec(vocab_size, embedding_dim)\n",
        "word2vec.compile(optimizer='adam',\n",
        "                 loss=tf.keras.losses.CategoricalCrossentropy(from_logits=True),\n",
        "                 metrics=['accuracy'])"
      ],
      "metadata": {
        "id": "J7gYmQYt5iis"
      },
      "execution_count": null,
      "outputs": []
    },
    {
      "cell_type": "code",
      "source": [
        "tensorboard_callback = tf.keras.callbacks.TensorBoard(log_dir=\"logs\")"
      ],
      "metadata": {
        "id": "xttawI2L5liF"
      },
      "execution_count": null,
      "outputs": []
    },
    {
      "cell_type": "code",
      "source": [
        "word2vec.fit(dataset, epochs=20, callbacks=[tensorboard_callback])"
      ],
      "metadata": {
        "id": "4XeUY86l5oOS",
        "outputId": "d4ac6bff-a463-42c5-ef0a-e6677f1ebf9b",
        "colab": {
          "base_uri": "https://localhost:8080/"
        }
      },
      "execution_count": null,
      "outputs": [
        {
          "output_type": "stream",
          "name": "stdout",
          "text": [
            "Epoch 1/20\n",
            "15/15 [==============================] - 2s 32ms/step - loss: 1.6093 - accuracy: 0.2049\n",
            "Epoch 2/20\n",
            "15/15 [==============================] - 0s 31ms/step - loss: 1.5974 - accuracy: 0.6400\n",
            "Epoch 3/20\n",
            "15/15 [==============================] - 0s 30ms/step - loss: 1.5859 - accuracy: 0.8637\n",
            "Epoch 4/20\n",
            "15/15 [==============================] - 0s 29ms/step - loss: 1.5719 - accuracy: 0.9370\n",
            "Epoch 5/20\n",
            "15/15 [==============================] - 0s 21ms/step - loss: 1.5540 - accuracy: 0.9649\n",
            "Epoch 6/20\n",
            "15/15 [==============================] - 0s 20ms/step - loss: 1.5306 - accuracy: 0.9742\n",
            "Epoch 7/20\n",
            "15/15 [==============================] - 0s 20ms/step - loss: 1.5004 - accuracy: 0.9775\n",
            "Epoch 8/20\n",
            "15/15 [==============================] - 0s 21ms/step - loss: 1.4622 - accuracy: 0.9779\n",
            "Epoch 9/20\n",
            "15/15 [==============================] - 0s 21ms/step - loss: 1.4154 - accuracy: 0.9773\n",
            "Epoch 10/20\n",
            "15/15 [==============================] - 0s 20ms/step - loss: 1.3599 - accuracy: 0.9774\n",
            "Epoch 11/20\n",
            "15/15 [==============================] - 0s 20ms/step - loss: 1.2963 - accuracy: 0.9777\n",
            "Epoch 12/20\n",
            "15/15 [==============================] - 0s 20ms/step - loss: 1.2257 - accuracy: 0.9782\n",
            "Epoch 13/20\n",
            "15/15 [==============================] - 0s 20ms/step - loss: 1.1497 - accuracy: 0.9783\n",
            "Epoch 14/20\n",
            "15/15 [==============================] - 0s 20ms/step - loss: 1.0702 - accuracy: 0.9787\n",
            "Epoch 15/20\n",
            "15/15 [==============================] - 0s 20ms/step - loss: 0.9889 - accuracy: 0.9791\n",
            "Epoch 16/20\n",
            "15/15 [==============================] - 0s 20ms/step - loss: 0.9079 - accuracy: 0.9800\n",
            "Epoch 17/20\n",
            "15/15 [==============================] - 0s 21ms/step - loss: 0.8286 - accuracy: 0.9812\n",
            "Epoch 18/20\n",
            "15/15 [==============================] - 0s 20ms/step - loss: 0.7526 - accuracy: 0.9827\n",
            "Epoch 19/20\n",
            "15/15 [==============================] - 0s 21ms/step - loss: 0.6809 - accuracy: 0.9841\n",
            "Epoch 20/20\n",
            "15/15 [==============================] - 0s 20ms/step - loss: 0.6143 - accuracy: 0.9859\n"
          ]
        },
        {
          "output_type": "execute_result",
          "data": {
            "text/plain": [
              "<keras.callbacks.History at 0x7f880c907d10>"
            ]
          },
          "metadata": {},
          "execution_count": 79
        }
      ]
    }
  ],
  "metadata": {
    "colab": {
      "collapsed_sections": [],
      "name": "hafez_model.ipynb",
      "provenance": []
    },
    "kernelspec": {
      "display_name": "Python 3",
      "name": "python3"
    },
    "language_info": {
      "name": "python"
    }
  },
  "nbformat": 4,
  "nbformat_minor": 0
}