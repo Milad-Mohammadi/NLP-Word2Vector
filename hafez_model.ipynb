{
  "cells": [
    {
      "cell_type": "markdown",
      "metadata": {
        "id": "o38FIWrODusU"
      },
      "source": [
        "# PreProcess"
      ]
    },
    {
      "cell_type": "code",
      "execution_count": 219,
      "metadata": {
        "id": "RJxdvrESCjDl"
      },
      "outputs": [],
      "source": [
        "#Read DataSet and Stop words\n",
        "\n",
        "with open (\"hafez.txt\", \"r\") as dataset:\n",
        "    data = dataset.read().splitlines()\n",
        "    text_ds = tf.data.TextLineDataset(dataset.read()).filter(lambda x: tf.cast(tf.strings.length(x), bool))\n",
        "\n",
        "with open (\"fa_stop_words.txt\", \"r\") as fa_stop_words:\n",
        "    stop_words = fa_stop_words.read().splitlines()    "
      ]
    },
    {
      "cell_type": "code",
      "execution_count": 220,
      "metadata": {
        "colab": {
          "base_uri": "https://localhost:8080/"
        },
        "id": "rLf8MSKCFzS6",
        "outputId": "373fa719-6ee0-4459-e843-e080facfc4ae"
      },
      "outputs": [
        {
          "output_type": "stream",
          "name": "stdout",
          "text": [
            "data: \n",
            "1:  ﻿ \n",
            "2:  الا يا ايها الساقي ادر كاسا و ناولها \n",
            "3:  كه عشق آسان نمود اول ولي افتاد مشكل‌ها\n",
            "\n",
            "stop_words: \n",
            "1:  ؟ \n",
            "2:  آباد \n",
            "3:  آخ\n"
          ]
        }
      ],
      "source": [
        "print(\"data:\", \"\\n1: \", data[0], \"\\n2: \", data[1], \"\\n3: \", data[2])\n",
        "print(\"\\nstop_words:\", \"\\n1: \", stop_words[18], \"\\n2: \", stop_words[19], \"\\n3: \", stop_words[20])"
      ]
    },
    {
      "cell_type": "markdown",
      "metadata": {
        "id": "-H3zQowC4X9A"
      },
      "source": [
        "\n",
        "\n",
        "---\n",
        "\n"
      ]
    },
    {
      "cell_type": "code",
      "execution_count": 221,
      "metadata": {
        "id": "0_UPQvI83TmK",
        "colab": {
          "base_uri": "https://localhost:8080/"
        },
        "outputId": "adcee664-b0a6-404a-a2b0-363075ac3948"
      },
      "outputs": [
        {
          "output_type": "stream",
          "name": "stdout",
          "text": [
            "Looking in indexes: https://pypi.org/simple, https://us-python.pkg.dev/colab-wheels/public/simple/\n",
            "Requirement already satisfied: hazm in /usr/local/lib/python3.7/dist-packages (0.7.0)\n",
            "Requirement already satisfied: nltk==3.3 in /usr/local/lib/python3.7/dist-packages (from hazm) (3.3)\n",
            "Requirement already satisfied: libwapiti>=0.2.1 in /usr/local/lib/python3.7/dist-packages (from hazm) (0.2.1)\n",
            "Requirement already satisfied: six in /usr/local/lib/python3.7/dist-packages (from nltk==3.3->hazm) (1.15.0)\n"
          ]
        }
      ],
      "source": [
        "!pip install hazm\n",
        "\n",
        "from hazm import *\n",
        "import numpy as np\n",
        "import random\n",
        "import pandas as pd\n",
        "import tensorflow as tf"
      ]
    },
    {
      "cell_type": "code",
      "execution_count": 222,
      "metadata": {
        "colab": {
          "base_uri": "https://localhost:8080/"
        },
        "id": "fZ0BK1EY53xt",
        "outputId": "6e338bd9-1268-4da5-9348-9072066efbc5"
      },
      "outputs": [
        {
          "output_type": "stream",
          "name": "stdout",
          "text": [
            "Normalized:  الا یا ایها الساقی ادر کاسا و ناولها\n",
            "Tokenized:  ['الا', 'یا', 'ایها', 'الساقی', 'ادر', 'کاسا', 'و', 'ناولها']\n",
            "Cleared:  ['ایها', 'الساقی', 'ادر', 'کاسا', 'ناولها']\n",
            "Words:  ای size:  34482\n",
            "Non Duplicate Words:  ای size:  5773\n",
            "Sentence:  ای الساق ادر کاسا ناول\n"
          ]
        }
      ],
      "source": [
        "normalizer = Normalizer()\n",
        "stemmer = Stemmer()\n",
        "normalized_data = []\n",
        "tokenized_data = []\n",
        "clear_data = []\n",
        "stemmed_data = []\n",
        "clear_sentences = []\n",
        "words = []\n",
        "clear_words = []\n",
        "\n",
        "#### Normalize\n",
        "for line in data:\n",
        "  if line and line != '\\ufeff':\n",
        "    normalized_data.append(normalizer.normalize(line))\n",
        "\n",
        "\n",
        "#### Tokenize\n",
        "for line in normalized_data:\n",
        "  tokenized_data.append(word_tokenize(line))\n",
        "\n",
        "\n",
        "#### Remove stop words\n",
        "for line in tokenized_data:\n",
        "  clear_line = []\n",
        "  for word in line:\n",
        "    if word not in stop_words:\n",
        "      clear_line.append(word)\n",
        "  clear_data.append(clear_line)\n",
        "\n",
        "\n",
        "\n",
        "#### Stemize\n",
        "for line in clear_data:\n",
        "  stemmed_line = []\n",
        "  for word in line:\n",
        "    stemmed_line.append(stemmer.stem(word))\n",
        "  stemmed_data.append(stemmed_line)\n",
        "\n",
        "\n",
        "#### Create Bag of words\n",
        "for i in range(len(stemmed_data)):\n",
        "  words.extend(stemmed_data[i])\n",
        "\n",
        "\n",
        "#### Convert words to sentences\n",
        "for line in stemmed_data:\n",
        "  clear_sentences.append(\" \".join(line))\n",
        "clear_sentences = [item for item in clear_sentences if item]\n",
        "\n",
        "\n",
        "# Remove duplicate words\n",
        "for i in words: \n",
        "  if i not in clear_words: \n",
        "    clear_words.append(i) \n",
        "\n",
        "\n",
        "print(\"Normalized: \", normalized_data[0])\n",
        "print(\"Tokenized: \", tokenized_data[0])\n",
        "print(\"Cleared: \", clear_data[0])\n",
        "print(\"Words: \", words[0], \"size: \", len(words))\n",
        "print(\"Non Duplicate Words: \", clear_words[0], \"size: \", len(clear_words))\n",
        "print(\"Sentence: \", clear_sentences[0])"
      ]
    },
    {
      "cell_type": "markdown",
      "metadata": {
        "id": "y1QxGIOjErbC"
      },
      "source": [
        "# Process"
      ]
    },
    {
      "cell_type": "code",
      "source": [
        "import io\n",
        "import re\n",
        "import string\n",
        "import tqdm\n",
        "import numpy as np\n",
        "import tensorflow as tf\n",
        "from tensorflow.keras import layers\n",
        "from tensorflow.keras.models import save_model\n",
        "from tensorflow.keras.preprocessing.text import Tokenizer\n",
        "from tensorflow.keras.preprocessing.sequence import pad_sequences\n",
        "\n",
        "SEED = 42\n",
        "NUM_NS = 4\n",
        "AUTOTUNE = tf.data.AUTOTUNE"
      ],
      "metadata": {
        "id": "04qu2wE1vtZM"
      },
      "execution_count": 223,
      "outputs": []
    },
    {
      "cell_type": "code",
      "source": [
        "max_words = len(clear_words)\n",
        "\n",
        "tokenizer = Tokenizer(num_words=max_words)\n",
        "tokenizer.fit_on_texts(clear_sentences)\n",
        "sequences = tokenizer.texts_to_sequences(clear_sentences)\n",
        "\n",
        "word2id = tokenizer.word_index\n",
        "id2word = { v:k for k, v in word2id.items() }\n",
        "\n",
        "max_len = 20\n",
        "inverse_vocab = pad_sequences(sequences, padding = 'pre', maxlen= max_len)\n",
        "print(inverse_vocab)"
      ],
      "metadata": {
        "id": "9het9yBQvTs0",
        "colab": {
          "base_uri": "https://localhost:8080/"
        },
        "outputId": "68d41124-6bdf-40f5-c9cf-a899905836e8"
      },
      "execution_count": 224,
      "outputs": [
        {
          "output_type": "stream",
          "name": "stdout",
          "text": [
            "[[   0    0    0 ... 2998 2143 2999]\n",
            " [   0    0    0 ...  591  152  389]\n",
            " [   0    0    0 ...   41  217  952]\n",
            " ...\n",
            " [   0    0    0 ...    0   29  103]\n",
            " [   0    0    0 ... 2791  451   45]\n",
            " [   0    0    0 ...   96 5713    2]]\n"
          ]
        }
      ]
    },
    {
      "cell_type": "code",
      "source": [
        "def generate_training_data(sequences, window_size, vocab_size):\n",
        "  targets, contexts, labels = [], [], []\n",
        "  sampling_table = tf.keras.preprocessing.sequence.make_sampling_table(vocab_size)\n",
        "\n",
        "  for sequence in tqdm.tqdm(sequences):\n",
        "    positive_skip_grams, _ = tf.keras.preprocessing.sequence.skipgrams(\n",
        "          sequence,\n",
        "          vocabulary_size=vocab_size,\n",
        "          sampling_table=sampling_table,\n",
        "          window_size=window_size,\n",
        "          negative_samples=0)\n",
        "\n",
        "    for target_word, context_word in positive_skip_grams:\n",
        "      context_class = tf.expand_dims(\n",
        "          tf.constant([context_word], dtype=\"int64\"), 1)\n",
        "      negative_sampling_candidates, _, _ = tf.random.log_uniform_candidate_sampler(\n",
        "          true_classes=context_class,\n",
        "          num_true=1,\n",
        "          num_sampled=NUM_NS,\n",
        "          unique=True,\n",
        "          range_max=vocab_size,\n",
        "          seed=SEED,\n",
        "          name=\"negative_sampling\")\n",
        "\n",
        "      negative_sampling_candidates = tf.expand_dims(negative_sampling_candidates, 1)\n",
        "      \n",
        "      context = tf.concat([context_class, negative_sampling_candidates], 0)\n",
        "      label = tf.constant([1] + [0]*NUM_NS, dtype=\"int64\")\n",
        "\n",
        "      targets.append(target_word)\n",
        "      contexts.append(context)\n",
        "      labels.append(label)\n",
        "\n",
        "  return targets, contexts, labels"
      ],
      "metadata": {
        "id": "Z4v8tu8S3are"
      },
      "execution_count": 225,
      "outputs": []
    },
    {
      "cell_type": "code",
      "source": [
        "vocab_size = len(clear_words)\n",
        "\n",
        "\n",
        "targets, contexts, labels = generate_training_data(sequences=sequences, window_size= 2, vocab_size=vocab_size)\n",
        "\n",
        "targets = np.array(targets)\n",
        "contexts = np.array(contexts)[:,:,0]\n",
        "labels = np.array(labels)\n",
        "\n",
        "print('\\n')\n",
        "print(f\"targets.shape: {targets.shape}\")\n",
        "print(f\"contexts.shape: {contexts.shape}\")\n",
        "print(f\"labels.shape: {labels.shape}\")\n"
      ],
      "metadata": {
        "colab": {
          "base_uri": "https://localhost:8080/"
        },
        "id": "Ksxw0-Lr2aAp",
        "outputId": "a599d826-cd8d-412f-c884-9dfbd46cc57b"
      },
      "execution_count": 226,
      "outputs": [
        {
          "output_type": "stream",
          "name": "stderr",
          "text": [
            "100%|██████████| 8384/8384 [00:04<00:00, 2067.07it/s]\n"
          ]
        },
        {
          "output_type": "stream",
          "name": "stdout",
          "text": [
            "\n",
            "\n",
            "targets.shape: (17025,)\n",
            "contexts.shape: (17025, 5)\n",
            "labels.shape: (17025, 5)\n"
          ]
        }
      ]
    },
    {
      "cell_type": "code",
      "source": [
        "BATCH_SIZE = 1024\n",
        "BUFFER_SIZE = 10000\n",
        "dataset = tf.data.Dataset.from_tensor_slices(((targets, contexts), labels))\n",
        "dataset = dataset.shuffle(BUFFER_SIZE).batch(BATCH_SIZE, drop_remainder=True)\n",
        "print(dataset)"
      ],
      "metadata": {
        "colab": {
          "base_uri": "https://localhost:8080/"
        },
        "id": "5KDxRF9f5Pqs",
        "outputId": "e1023c6c-fe84-4585-eb1e-e57c5abef68e"
      },
      "execution_count": 227,
      "outputs": [
        {
          "output_type": "stream",
          "name": "stdout",
          "text": [
            "<BatchDataset element_spec=((TensorSpec(shape=(1024,), dtype=tf.int64, name=None), TensorSpec(shape=(1024, 5), dtype=tf.int64, name=None)), TensorSpec(shape=(1024, 5), dtype=tf.int64, name=None))>\n"
          ]
        }
      ]
    },
    {
      "cell_type": "code",
      "source": [
        "dataset = dataset.cache().prefetch(buffer_size=AUTOTUNE)\n",
        "print(dataset)"
      ],
      "metadata": {
        "colab": {
          "base_uri": "https://localhost:8080/"
        },
        "id": "7ht_4_VK5Uir",
        "outputId": "a7176b7b-307b-44f7-ef62-35f5839cea7c"
      },
      "execution_count": 228,
      "outputs": [
        {
          "output_type": "stream",
          "name": "stdout",
          "text": [
            "<PrefetchDataset element_spec=((TensorSpec(shape=(1024,), dtype=tf.int64, name=None), TensorSpec(shape=(1024, 5), dtype=tf.int64, name=None)), TensorSpec(shape=(1024, 5), dtype=tf.int64, name=None))>\n"
          ]
        }
      ]
    },
    {
      "cell_type": "code",
      "source": [
        "class Word2Vec(tf.keras.Model):\n",
        "  def __init__(self, vocab_size, embedding_dim):\n",
        "    super(Word2Vec, self).__init__()\n",
        "    self.target_embedding = layers.Embedding(vocab_size, embedding_dim, input_length=1, name=\"w2v_embedding\")\n",
        "    self.context_embedding = layers.Embedding(vocab_size, embedding_dim, input_length=NUM_NS+1)\n",
        "\n",
        "  def call(self, pair):\n",
        "    target, context = pair\n",
        "\n",
        "    if len(target.shape) == 2:\n",
        "      target = tf.squeeze(target, axis=1)\n",
        "    \n",
        "    word_emb = self.target_embedding(target)\n",
        "    context_emb = self.context_embedding(context)\n",
        "    dots = tf.einsum('be,bce->bc', word_emb, context_emb)\n",
        "\n",
        "    return dots"
      ],
      "metadata": {
        "id": "bGdpnnx95bUX"
      },
      "execution_count": 229,
      "outputs": []
    },
    {
      "cell_type": "code",
      "source": [
        "def custom_loss(x_logit, y_true):\n",
        "      return tf.nn.sigmoid_cross_entropy_with_logits(logits=x_logit, labels=y_true)"
      ],
      "metadata": {
        "id": "oWFFZnct5fM3"
      },
      "execution_count": 230,
      "outputs": []
    },
    {
      "cell_type": "code",
      "source": [
        "embedding_dim = 128\n",
        "word2vec = Word2Vec(vocab_size, embedding_dim)\n",
        "word2vec.compile(optimizer='adam',\n",
        "                 loss=tf.keras.losses.CategoricalCrossentropy(from_logits=True),\n",
        "                 metrics=['accuracy'])"
      ],
      "metadata": {
        "id": "J7gYmQYt5iis"
      },
      "execution_count": 231,
      "outputs": []
    },
    {
      "cell_type": "code",
      "source": [
        "tensorboard_callback = tf.keras.callbacks.TensorBoard(log_dir=\"logs\")"
      ],
      "metadata": {
        "id": "xttawI2L5liF"
      },
      "execution_count": 232,
      "outputs": []
    },
    {
      "cell_type": "code",
      "source": [
        "word2vec.fit(dataset, epochs=40, callbacks=[tensorboard_callback])"
      ],
      "metadata": {
        "id": "4XeUY86l5oOS",
        "outputId": "eef841ee-bcda-4932-fdd2-9022f4d4a667",
        "colab": {
          "base_uri": "https://localhost:8080/"
        }
      },
      "execution_count": 233,
      "outputs": [
        {
          "output_type": "stream",
          "name": "stdout",
          "text": [
            "Epoch 1/40\n",
            "16/16 [==============================] - 1s 22ms/step - loss: 1.6093 - accuracy: 0.2010\n",
            "Epoch 2/40\n",
            "16/16 [==============================] - 0s 27ms/step - loss: 1.5968 - accuracy: 0.6594\n",
            "Epoch 3/40\n",
            "16/16 [==============================] - 0s 29ms/step - loss: 1.5846 - accuracy: 0.8777\n",
            "Epoch 4/40\n",
            "16/16 [==============================] - 1s 38ms/step - loss: 1.5697 - accuracy: 0.9458\n",
            "Epoch 5/40\n",
            "16/16 [==============================] - 1s 41ms/step - loss: 1.5501 - accuracy: 0.9670\n",
            "Epoch 6/40\n",
            "16/16 [==============================] - 1s 35ms/step - loss: 1.5242 - accuracy: 0.9747\n",
            "Epoch 7/40\n",
            "16/16 [==============================] - 0s 25ms/step - loss: 1.4903 - accuracy: 0.9776\n",
            "Epoch 8/40\n",
            "16/16 [==============================] - 0s 27ms/step - loss: 1.4474 - accuracy: 0.9780\n",
            "Epoch 9/40\n",
            "16/16 [==============================] - 0s 28ms/step - loss: 1.3948 - accuracy: 0.9783\n",
            "Epoch 10/40\n",
            "16/16 [==============================] - 0s 30ms/step - loss: 1.3329 - accuracy: 0.9780\n",
            "Epoch 11/40\n",
            "16/16 [==============================] - 1s 31ms/step - loss: 1.2625 - accuracy: 0.9777\n",
            "Epoch 12/40\n",
            "16/16 [==============================] - 1s 33ms/step - loss: 1.1855 - accuracy: 0.9769\n",
            "Epoch 13/40\n",
            "16/16 [==============================] - 0s 27ms/step - loss: 1.1037 - accuracy: 0.9769\n",
            "Epoch 14/40\n",
            "16/16 [==============================] - 0s 30ms/step - loss: 1.0194 - accuracy: 0.9773\n",
            "Epoch 15/40\n",
            "16/16 [==============================] - 0s 29ms/step - loss: 0.9346 - accuracy: 0.9778\n",
            "Epoch 16/40\n",
            "16/16 [==============================] - 1s 37ms/step - loss: 0.8513 - accuracy: 0.9794\n",
            "Epoch 17/40\n",
            "16/16 [==============================] - 1s 39ms/step - loss: 0.7711 - accuracy: 0.9810\n",
            "Epoch 18/40\n",
            "16/16 [==============================] - 1s 39ms/step - loss: 0.6952 - accuracy: 0.9822\n",
            "Epoch 19/40\n",
            "16/16 [==============================] - 1s 35ms/step - loss: 0.6247 - accuracy: 0.9838\n",
            "Epoch 20/40\n",
            "16/16 [==============================] - 1s 34ms/step - loss: 0.5600 - accuracy: 0.9859\n",
            "Epoch 21/40\n",
            "16/16 [==============================] - 0s 31ms/step - loss: 0.5013 - accuracy: 0.9878\n",
            "Epoch 22/40\n",
            "16/16 [==============================] - 1s 36ms/step - loss: 0.4487 - accuracy: 0.9890\n",
            "Epoch 23/40\n",
            "16/16 [==============================] - 1s 43ms/step - loss: 0.4019 - accuracy: 0.9902\n",
            "Epoch 24/40\n",
            "16/16 [==============================] - 1s 44ms/step - loss: 0.3604 - accuracy: 0.9918\n",
            "Epoch 25/40\n",
            "16/16 [==============================] - 0s 28ms/step - loss: 0.3239 - accuracy: 0.9932\n",
            "Epoch 26/40\n",
            "16/16 [==============================] - 0s 29ms/step - loss: 0.2918 - accuracy: 0.9941\n",
            "Epoch 27/40\n",
            "16/16 [==============================] - 0s 29ms/step - loss: 0.2637 - accuracy: 0.9953\n",
            "Epoch 28/40\n",
            "16/16 [==============================] - 1s 31ms/step - loss: 0.2390 - accuracy: 0.9962\n",
            "Epoch 29/40\n",
            "16/16 [==============================] - 0s 29ms/step - loss: 0.2173 - accuracy: 0.9971\n",
            "Epoch 30/40\n",
            "16/16 [==============================] - 1s 32ms/step - loss: 0.1982 - accuracy: 0.9973\n",
            "Epoch 31/40\n",
            "16/16 [==============================] - 0s 30ms/step - loss: 0.1814 - accuracy: 0.9978\n",
            "Epoch 32/40\n",
            "16/16 [==============================] - 1s 32ms/step - loss: 0.1666 - accuracy: 0.9981\n",
            "Epoch 33/40\n",
            "16/16 [==============================] - 1s 34ms/step - loss: 0.1534 - accuracy: 0.9985\n",
            "Epoch 34/40\n",
            "16/16 [==============================] - 0s 31ms/step - loss: 0.1417 - accuracy: 0.9987\n",
            "Epoch 35/40\n",
            "16/16 [==============================] - 1s 32ms/step - loss: 0.1314 - accuracy: 0.9989\n",
            "Epoch 36/40\n",
            "16/16 [==============================] - 0s 23ms/step - loss: 0.1221 - accuracy: 0.9990\n",
            "Epoch 37/40\n",
            "16/16 [==============================] - 0s 29ms/step - loss: 0.1138 - accuracy: 0.9991\n",
            "Epoch 38/40\n",
            "16/16 [==============================] - 0s 31ms/step - loss: 0.1063 - accuracy: 0.9991\n",
            "Epoch 39/40\n",
            "16/16 [==============================] - 0s 25ms/step - loss: 0.0996 - accuracy: 0.9993\n",
            "Epoch 40/40\n",
            "16/16 [==============================] - 1s 33ms/step - loss: 0.0935 - accuracy: 0.9993\n"
          ]
        },
        {
          "output_type": "execute_result",
          "data": {
            "text/plain": [
              "<keras.callbacks.History at 0x7fba8de78bd0>"
            ]
          },
          "metadata": {},
          "execution_count": 233
        }
      ]
    },
    {
      "cell_type": "code",
      "source": [
        "from sklearn.metrics.pairwise import euclidean_distances\n",
        "\n",
        "weights = word2vec.get_layer('w2v_embedding').get_weights()[0]\n",
        "distance_matrix = euclidean_distances(weights)\n",
        "\n",
        "similar_words = {  search_term:  [ id2word[idx] for idx in distance_matrix[word2id[search_term]].argsort()[1:6]] for search_term in ['عشق', 'حافظ', 'می', 'جام', 'دیوانه'] }\n",
        "\n",
        "similar_words"
      ],
      "metadata": {
        "colab": {
          "base_uri": "https://localhost:8080/"
        },
        "id": "o9fiLvOaL1I-",
        "outputId": "a7634f6e-4a87-4cdd-b1f2-e6528010fe63"
      },
      "execution_count": 234,
      "outputs": [
        {
          "output_type": "execute_result",
          "data": {
            "text/plain": [
              "{'جام': ['منت', 'دره', 'رواج', 'سنجند', 'حریفیس'],\n",
              " 'حافظ': ['پرخون', 'می\\u200cبرند', 'نسبت', 'بربندید', 'نسپر'],\n",
              " 'دیوانه': ['سرانجام', 'می\\u200cچون', 'بداد', 'اقل', 'کنع'],\n",
              " 'عشق': ['سرگردانند', 'برگیرد', 'نج', 'ژنده', 'نباش'],\n",
              " 'می': ['ملایک', 'ساغرگیر', 'نتاب', 'نراند', 'خوناب']}"
            ]
          },
          "metadata": {},
          "execution_count": 234
        }
      ]
    },
    {
      "cell_type": "code",
      "source": [
        "word2vec.save('hafez')"
      ],
      "metadata": {
        "colab": {
          "base_uri": "https://localhost:8080/"
        },
        "id": "POLmBWtWVM4m",
        "outputId": "3dfee048-9d23-45a7-9017-6a27431c3bbd"
      },
      "execution_count": 235,
      "outputs": [
        {
          "output_type": "stream",
          "name": "stdout",
          "text": [
            "INFO:tensorflow:Assets written to: hafez/assets\n"
          ]
        }
      ]
    }
  ],
  "metadata": {
    "colab": {
      "collapsed_sections": [],
      "name": "hafez_model.ipynb",
      "provenance": []
    },
    "kernelspec": {
      "display_name": "Python 3",
      "name": "python3"
    },
    "language_info": {
      "name": "python"
    }
  },
  "nbformat": 4,
  "nbformat_minor": 0
}