{
  "cells": [
    {
      "cell_type": "markdown",
      "metadata": {
        "id": "o38FIWrODusU"
      },
      "source": [
        "# PreProcess"
      ]
    },
    {
      "cell_type": "code",
      "source": [
        "import io\n",
        "import re\n",
        "import string\n",
        "import tqdm\n",
        "\n",
        "import numpy as np\n",
        "\n",
        "import tensorflow as tf\n",
        "from tensorflow.keras import layers\n",
        "\n",
        "SEED = 42\n",
        "NUM_NS = 4\n",
        "AUTOTUNE = tf.data.AUTOTUNE"
      ],
      "metadata": {
        "id": "04qu2wE1vtZM"
      },
      "execution_count": 136,
      "outputs": []
    },
    {
      "cell_type": "code",
      "execution_count": 137,
      "metadata": {
        "id": "RJxdvrESCjDl"
      },
      "outputs": [],
      "source": [
        "#Read DataSet and Stop words\n",
        "\n",
        "with open (\"hafez.txt\", \"r\") as dataset:\n",
        "    data = dataset.read().splitlines()\n",
        "    text_ds = tf.data.TextLineDataset(dataset.read()).filter(lambda x: tf.cast(tf.strings.length(x), bool))\n",
        "\n",
        "with open (\"fa_stop_words.txt\", \"r\") as fa_stop_words:\n",
        "    stop_words = fa_stop_words.read().splitlines()    "
      ]
    },
    {
      "cell_type": "code",
      "execution_count": 138,
      "metadata": {
        "colab": {
          "base_uri": "https://localhost:8080/"
        },
        "id": "rLf8MSKCFzS6",
        "outputId": "19375544-c166-43c8-ed52-d3e4a4c582f4"
      },
      "outputs": [
        {
          "output_type": "stream",
          "name": "stdout",
          "text": [
            "data: \n",
            "1:  ﻿ \n",
            "2:  الا يا ايها الساقي ادر كاسا و ناولها \n",
            "3:  كه عشق آسان نمود اول ولي افتاد مشكل‌ها\n",
            "\n",
            "stop_words: \n",
            "1:  ؟ \n",
            "2:  آباد \n",
            "3:  آخ\n"
          ]
        }
      ],
      "source": [
        "print(\"data:\", \"\\n1: \", data[0], \"\\n2: \", data[1], \"\\n3: \", data[2])\n",
        "print(\"\\nstop_words:\", \"\\n1: \", stop_words[18], \"\\n2: \", stop_words[19], \"\\n3: \", stop_words[20])"
      ]
    },
    {
      "cell_type": "markdown",
      "metadata": {
        "id": "-H3zQowC4X9A"
      },
      "source": [
        "\n",
        "\n",
        "---\n",
        "\n"
      ]
    },
    {
      "cell_type": "code",
      "execution_count": 139,
      "metadata": {
        "id": "0_UPQvI83TmK",
        "colab": {
          "base_uri": "https://localhost:8080/"
        },
        "outputId": "87146566-2e91-48a8-c4e7-85be27bf03b5"
      },
      "outputs": [
        {
          "output_type": "stream",
          "name": "stdout",
          "text": [
            "Looking in indexes: https://pypi.org/simple, https://us-python.pkg.dev/colab-wheels/public/simple/\n",
            "Requirement already satisfied: hazm in /usr/local/lib/python3.7/dist-packages (0.7.0)\n",
            "Requirement already satisfied: libwapiti>=0.2.1 in /usr/local/lib/python3.7/dist-packages (from hazm) (0.2.1)\n",
            "Requirement already satisfied: nltk==3.3 in /usr/local/lib/python3.7/dist-packages (from hazm) (3.3)\n",
            "Requirement already satisfied: six in /usr/local/lib/python3.7/dist-packages (from nltk==3.3->hazm) (1.15.0)\n"
          ]
        }
      ],
      "source": [
        "!pip install hazm\n",
        "\n",
        "from hazm import *\n",
        "import numpy as np\n",
        "import random\n",
        "import pandas as pd\n",
        "import tensorflow as tf"
      ]
    },
    {
      "cell_type": "code",
      "execution_count": 140,
      "metadata": {
        "colab": {
          "base_uri": "https://localhost:8080/"
        },
        "id": "fZ0BK1EY53xt",
        "outputId": "eff78ad7-d731-4270-fc4d-24c4d5624d76"
      },
      "outputs": [
        {
          "output_type": "stream",
          "name": "stdout",
          "text": [
            "Normalized:  الا یا ایها الساقی ادر کاسا و ناولها\n",
            "Tokenized:  ['الا', 'یا', 'ایها', 'الساقی', 'ادر', 'کاسا', 'و', 'ناولها']\n",
            "Cleared:  ['ایها', 'الساقی', 'ادر', 'کاسا', 'ناولها']\n",
            "Words:  ای size:  34482\n",
            "Non Duplicate Words:  ای size:  5773\n",
            "Sentence:  ای الساق ادر کاسا ناول\n"
          ]
        }
      ],
      "source": [
        "normalizer = Normalizer()\n",
        "stemmer = Stemmer()\n",
        "normalized_data = []\n",
        "tokenized_data = []\n",
        "clear_data = []\n",
        "stemmed_data = []\n",
        "clear_sentences = []\n",
        "words = []\n",
        "clear_words = []\n",
        "\n",
        "#### Normalize\n",
        "for line in data:\n",
        "  if line and line != '\\ufeff':\n",
        "    normalized_data.append(normalizer.normalize(line))\n",
        "\n",
        "\n",
        "#### Tokenize\n",
        "for line in normalized_data:\n",
        "  tokenized_data.append(word_tokenize(line))\n",
        "\n",
        "\n",
        "#### Remove stop words\n",
        "for line in tokenized_data:\n",
        "  clear_line = []\n",
        "  for word in line:\n",
        "    if word not in stop_words:\n",
        "      clear_line.append(word)\n",
        "  clear_data.append(clear_line)\n",
        "\n",
        "\n",
        "\n",
        "#### Stemize\n",
        "for line in clear_data:\n",
        "  stemmed_line = []\n",
        "  for word in line:\n",
        "    stemmed_line.append(stemmer.stem(word))\n",
        "  stemmed_data.append(stemmed_line)\n",
        "\n",
        "\n",
        "#### Create Bag of words\n",
        "for i in range(len(stemmed_data)):\n",
        "  words.extend(stemmed_data[i])\n",
        "\n",
        "\n",
        "#### Convert words to sentences\n",
        "for line in stemmed_data:\n",
        "  clear_sentences.append(\" \".join(line))\n",
        "clear_sentences = [item for item in clear_sentences if item]\n",
        "\n",
        "\n",
        "# Remove duplicate words\n",
        "for i in words: \n",
        "  if i not in clear_words: \n",
        "    clear_words.append(i) \n",
        "\n",
        "\n",
        "print(\"Normalized: \", normalized_data[0])\n",
        "print(\"Tokenized: \", tokenized_data[0])\n",
        "print(\"Cleared: \", clear_data[0])\n",
        "print(\"Words: \", words[0], \"size: \", len(words))\n",
        "print(\"Non Duplicate Words: \", clear_words[0], \"size: \", len(clear_words))\n",
        "print(\"Sentence: \", clear_sentences[0])"
      ]
    },
    {
      "cell_type": "markdown",
      "metadata": {
        "id": "y1QxGIOjErbC"
      },
      "source": [
        "# Process"
      ]
    },
    {
      "cell_type": "code",
      "source": [
        "from tensorflow.keras.preprocessing.text import Tokenizer\n",
        "from tensorflow.keras.preprocessing.sequence import pad_sequences\n",
        "\n",
        "max_words = len(clear_words)\n",
        "tokenizer = Tokenizer(num_words=max_words)\n",
        "tokenizer.fit_on_texts(clear_sentences)\n",
        "sequences = tokenizer.texts_to_sequences(clear_sentences)\n",
        "word2id = tokenizer.word_index\n",
        "id2word = { v:k for k, v in word2id.items() }\n",
        "max_len = 50\n",
        "\n",
        "inverse_vocab = pad_sequences(sequences, padding = 'pre', maxlen= max_len)\n",
        "print(inverse_vocab)"
      ],
      "metadata": {
        "id": "9het9yBQvTs0",
        "colab": {
          "base_uri": "https://localhost:8080/"
        },
        "outputId": "a45e18e7-6f42-44b8-906c-71a64627f4c1"
      },
      "execution_count": 156,
      "outputs": [
        {
          "output_type": "stream",
          "name": "stdout",
          "text": [
            "[[   0    0    0 ... 2998 2143 2999]\n",
            " [   0    0    0 ...  591  152  389]\n",
            " [   0    0    0 ...   41  217  952]\n",
            " ...\n",
            " [   0    0    0 ...    0   29  103]\n",
            " [   0    0    0 ... 2791  451   45]\n",
            " [   0    0    0 ...   96 5713    2]]\n"
          ]
        }
      ]
    },
    {
      "cell_type": "code",
      "source": [
        "def generate_training_data(sequences, window_size, vocab_size, seed):\n",
        "  targets, contexts, labels = [], [], []\n",
        "  sampling_table = tf.keras.preprocessing.sequence.make_sampling_table(vocab_size)\n",
        "\n",
        "  for sequence in tqdm.tqdm(sequences):\n",
        "    positive_skip_grams, _ = tf.keras.preprocessing.sequence.skipgrams(\n",
        "          sequence,\n",
        "          vocabulary_size=vocab_size,\n",
        "          sampling_table=sampling_table,\n",
        "          window_size=window_size,\n",
        "          negative_samples=0)\n",
        "\n",
        "    for target_word, context_word in positive_skip_grams:\n",
        "      context_class = tf.expand_dims(\n",
        "          tf.constant([context_word], dtype=\"int64\"), 1)\n",
        "      negative_sampling_candidates, _, _ = tf.random.log_uniform_candidate_sampler(\n",
        "          true_classes=context_class,\n",
        "          num_true=1,\n",
        "          num_sampled=NUM_NS,\n",
        "          unique=True,\n",
        "          range_max=vocab_size,\n",
        "          seed=SEED,\n",
        "          name=\"negative_sampling\")\n",
        "\n",
        "      negative_sampling_candidates = tf.expand_dims(\n",
        "          negative_sampling_candidates, 1)\n",
        "\n",
        "      context = tf.concat([context_class, negative_sampling_candidates], 0)\n",
        "      label = tf.constant([1] + [0]*NUM_NS, dtype=\"int64\")\n",
        "\n",
        "      targets.append(target_word)\n",
        "      contexts.append(context)\n",
        "      labels.append(label)\n",
        "\n",
        "  return targets, contexts, labels"
      ],
      "metadata": {
        "id": "Z4v8tu8S3are"
      },
      "execution_count": 142,
      "outputs": []
    },
    {
      "cell_type": "code",
      "source": [
        "vocab_size = len(clear_words)\n",
        "\n",
        "\n",
        "targets, contexts, labels = generate_training_data(\n",
        "    sequences=sequences,\n",
        "    window_size=2,\n",
        "    vocab_size=vocab_size,\n",
        "    seed=SEED)\n",
        "\n",
        "targets = np.array(targets)\n",
        "contexts = np.array(contexts)[:,:,0]\n",
        "labels = np.array(labels)\n",
        "\n",
        "print('\\n')\n",
        "print(f\"targets.shape: {targets.shape}\")\n",
        "print(f\"contexts.shape: {contexts.shape}\")\n",
        "print(f\"labels.shape: {labels.shape}\")\n"
      ],
      "metadata": {
        "colab": {
          "base_uri": "https://localhost:8080/"
        },
        "id": "Ksxw0-Lr2aAp",
        "outputId": "6264268e-0a23-49e0-ecc9-6d0733f35b45"
      },
      "execution_count": 143,
      "outputs": [
        {
          "output_type": "stream",
          "name": "stderr",
          "text": [
            "100%|██████████| 8384/8384 [00:03<00:00, 2467.59it/s]\n"
          ]
        },
        {
          "output_type": "stream",
          "name": "stdout",
          "text": [
            "\n",
            "\n",
            "targets.shape: (17169,)\n",
            "contexts.shape: (17169, 5)\n",
            "labels.shape: (17169, 5)\n"
          ]
        }
      ]
    },
    {
      "cell_type": "code",
      "source": [
        "BATCH_SIZE = 1024\n",
        "BUFFER_SIZE = 10000\n",
        "dataset = tf.data.Dataset.from_tensor_slices(((targets, contexts), labels))\n",
        "dataset = dataset.shuffle(BUFFER_SIZE).batch(BATCH_SIZE, drop_remainder=True)\n",
        "print(dataset)"
      ],
      "metadata": {
        "colab": {
          "base_uri": "https://localhost:8080/"
        },
        "id": "5KDxRF9f5Pqs",
        "outputId": "7219d22e-5d80-4198-88ac-bfcf2d1be558"
      },
      "execution_count": 144,
      "outputs": [
        {
          "output_type": "stream",
          "name": "stdout",
          "text": [
            "<BatchDataset element_spec=((TensorSpec(shape=(1024,), dtype=tf.int64, name=None), TensorSpec(shape=(1024, 5), dtype=tf.int64, name=None)), TensorSpec(shape=(1024, 5), dtype=tf.int64, name=None))>\n"
          ]
        }
      ]
    },
    {
      "cell_type": "code",
      "source": [
        "dataset = dataset.cache().prefetch(buffer_size=AUTOTUNE)\n",
        "print(dataset)"
      ],
      "metadata": {
        "colab": {
          "base_uri": "https://localhost:8080/"
        },
        "id": "7ht_4_VK5Uir",
        "outputId": "15cfbe98-9fa2-4b32-f27e-5208de326986"
      },
      "execution_count": 145,
      "outputs": [
        {
          "output_type": "stream",
          "name": "stdout",
          "text": [
            "<PrefetchDataset element_spec=((TensorSpec(shape=(1024,), dtype=tf.int64, name=None), TensorSpec(shape=(1024, 5), dtype=tf.int64, name=None)), TensorSpec(shape=(1024, 5), dtype=tf.int64, name=None))>\n"
          ]
        }
      ]
    },
    {
      "cell_type": "code",
      "source": [
        "class Word2Vec(tf.keras.Model):\n",
        "  def __init__(self, vocab_size, embedding_dim):\n",
        "    super(Word2Vec, self).__init__()\n",
        "    self.target_embedding = layers.Embedding(vocab_size, embedding_dim, input_length=1, name=\"w2v_embedding\")\n",
        "    self.context_embedding = layers.Embedding(vocab_size, embedding_dim, input_length=NUM_NS+1)\n",
        "\n",
        "  def call(self, pair):\n",
        "    target, context = pair\n",
        "\n",
        "    if len(target.shape) == 2:\n",
        "      target = tf.squeeze(target, axis=1)\n",
        "    \n",
        "    word_emb = self.target_embedding(target)\n",
        "    context_emb = self.context_embedding(context)\n",
        "    dots = tf.einsum('be,bce->bc', word_emb, context_emb)\n",
        "\n",
        "    return dots"
      ],
      "metadata": {
        "id": "bGdpnnx95bUX"
      },
      "execution_count": 146,
      "outputs": []
    },
    {
      "cell_type": "code",
      "source": [
        "def custom_loss(x_logit, y_true):\n",
        "      return tf.nn.sigmoid_cross_entropy_with_logits(logits=x_logit, labels=y_true)"
      ],
      "metadata": {
        "id": "oWFFZnct5fM3"
      },
      "execution_count": 147,
      "outputs": []
    },
    {
      "cell_type": "code",
      "source": [
        "embedding_dim = 128\n",
        "word2vec = Word2Vec(vocab_size, embedding_dim)\n",
        "word2vec.compile(optimizer='adam',\n",
        "                 loss=tf.keras.losses.CategoricalCrossentropy(from_logits=True),\n",
        "                 metrics=['accuracy'])"
      ],
      "metadata": {
        "id": "J7gYmQYt5iis"
      },
      "execution_count": 148,
      "outputs": []
    },
    {
      "cell_type": "code",
      "source": [
        "tensorboard_callback = tf.keras.callbacks.TensorBoard(log_dir=\"logs\")"
      ],
      "metadata": {
        "id": "xttawI2L5liF"
      },
      "execution_count": 149,
      "outputs": []
    },
    {
      "cell_type": "code",
      "source": [
        "word2vec.fit(dataset, epochs=30, callbacks=[tensorboard_callback])"
      ],
      "metadata": {
        "id": "4XeUY86l5oOS",
        "outputId": "60c8d756-507a-44b5-fdf4-2c0cdcb0ef8f",
        "colab": {
          "base_uri": "https://localhost:8080/"
        }
      },
      "execution_count": 151,
      "outputs": [
        {
          "output_type": "stream",
          "name": "stdout",
          "text": [
            "Epoch 1/30\n",
            "16/16 [==============================] - 1s 37ms/step - loss: 0.4980 - accuracy: 0.9872\n",
            "Epoch 2/30\n",
            "16/16 [==============================] - 1s 32ms/step - loss: 0.4451 - accuracy: 0.9890\n",
            "Epoch 3/30\n",
            "16/16 [==============================] - 0s 27ms/step - loss: 0.3981 - accuracy: 0.9907\n",
            "Epoch 4/30\n",
            "16/16 [==============================] - 1s 31ms/step - loss: 0.3566 - accuracy: 0.9922\n",
            "Epoch 5/30\n",
            "16/16 [==============================] - 1s 33ms/step - loss: 0.3202 - accuracy: 0.9935\n",
            "Epoch 6/30\n",
            "16/16 [==============================] - 0s 21ms/step - loss: 0.2882 - accuracy: 0.9949\n",
            "Epoch 7/30\n",
            "16/16 [==============================] - 0s 19ms/step - loss: 0.2602 - accuracy: 0.9960\n",
            "Epoch 8/30\n",
            "16/16 [==============================] - 0s 20ms/step - loss: 0.2356 - accuracy: 0.9969\n",
            "Epoch 9/30\n",
            "16/16 [==============================] - 0s 18ms/step - loss: 0.2141 - accuracy: 0.9976\n",
            "Epoch 10/30\n",
            "16/16 [==============================] - 0s 19ms/step - loss: 0.1952 - accuracy: 0.9980\n",
            "Epoch 11/30\n",
            "16/16 [==============================] - 0s 18ms/step - loss: 0.1785 - accuracy: 0.9982\n",
            "Epoch 12/30\n",
            "16/16 [==============================] - 0s 19ms/step - loss: 0.1638 - accuracy: 0.9982\n",
            "Epoch 13/30\n",
            "16/16 [==============================] - 0s 18ms/step - loss: 0.1508 - accuracy: 0.9984\n",
            "Epoch 14/30\n",
            "16/16 [==============================] - 0s 20ms/step - loss: 0.1392 - accuracy: 0.9985\n",
            "Epoch 15/30\n",
            "16/16 [==============================] - 0s 20ms/step - loss: 0.1289 - accuracy: 0.9987\n",
            "Epoch 16/30\n",
            "16/16 [==============================] - 0s 19ms/step - loss: 0.1198 - accuracy: 0.9987\n",
            "Epoch 17/30\n",
            "16/16 [==============================] - 0s 20ms/step - loss: 0.1115 - accuracy: 0.9988\n",
            "Epoch 18/30\n",
            "16/16 [==============================] - 0s 18ms/step - loss: 0.1042 - accuracy: 0.9989\n",
            "Epoch 19/30\n",
            "16/16 [==============================] - 0s 19ms/step - loss: 0.0975 - accuracy: 0.9991\n",
            "Epoch 20/30\n",
            "16/16 [==============================] - 0s 20ms/step - loss: 0.0915 - accuracy: 0.9992\n",
            "Epoch 21/30\n",
            "16/16 [==============================] - 0s 19ms/step - loss: 0.0861 - accuracy: 0.9992\n",
            "Epoch 22/30\n",
            "16/16 [==============================] - 0s 19ms/step - loss: 0.0811 - accuracy: 0.9993\n",
            "Epoch 23/30\n",
            "16/16 [==============================] - 0s 19ms/step - loss: 0.0766 - accuracy: 0.9993\n",
            "Epoch 24/30\n",
            "16/16 [==============================] - 0s 19ms/step - loss: 0.0725 - accuracy: 0.9995\n",
            "Epoch 25/30\n",
            "16/16 [==============================] - 0s 19ms/step - loss: 0.0688 - accuracy: 0.9995\n",
            "Epoch 26/30\n",
            "16/16 [==============================] - 0s 19ms/step - loss: 0.0653 - accuracy: 0.9994\n",
            "Epoch 27/30\n",
            "16/16 [==============================] - 0s 19ms/step - loss: 0.0622 - accuracy: 0.9995\n",
            "Epoch 28/30\n",
            "16/16 [==============================] - 0s 19ms/step - loss: 0.0593 - accuracy: 0.9995\n",
            "Epoch 29/30\n",
            "16/16 [==============================] - 0s 18ms/step - loss: 0.0566 - accuracy: 0.9995\n",
            "Epoch 30/30\n",
            "16/16 [==============================] - 0s 19ms/step - loss: 0.0541 - accuracy: 0.9995\n"
          ]
        },
        {
          "output_type": "execute_result",
          "data": {
            "text/plain": [
              "<keras.callbacks.History at 0x7fba904ce290>"
            ]
          },
          "metadata": {},
          "execution_count": 151
        }
      ]
    },
    {
      "cell_type": "code",
      "source": [
        "from sklearn.metrics.pairwise import euclidean_distances\n",
        "\n",
        "weights = word2vec.get_layer('w2v_embedding').get_weights()[0]\n",
        "distance_matrix = euclidean_distances(weights)\n",
        "\n",
        "\n",
        "similar_words = {  search_term:  [ id2word[idx] for idx in distance_matrix[word2id[search_term]].argsort()[1:6] ] for search_term in ['عشق', 'حافظ', 'می', 'جام', 'دیوانه'] }\n",
        "\n",
        "similar_words"
      ],
      "metadata": {
        "colab": {
          "base_uri": "https://localhost:8080/"
        },
        "id": "o9fiLvOaL1I-",
        "outputId": "650b1ad9-c297-4b0a-f229-e6f62a5f3a0a"
      },
      "execution_count": 177,
      "outputs": [
        {
          "output_type": "execute_result",
          "data": {
            "text/plain": [
              "{'جام': ['دوزخ', 'می\\u200cرنگین', 'مبوس', 'ندیده', 'حک'],\n",
              " 'حافظ': ['ملول', 'الله', 'نمی\\u200cخورید', 'گرداب', 'ظاهرپرس'],\n",
              " 'دیوانه': ['کاسته', 'می\\u200cطپد', 'دلیل', 'نمک', 'همی\\u200cکشد'],\n",
              " 'عشق': ['برافکن', 'می\\u200cخور', 'نپیما', 'ندیده', 'بیارا'],\n",
              " 'می': ['قهقهه', 'نگارنده', 'دیرگاه', 'می\\u200cحافظ', 'مالامال']}"
            ]
          },
          "metadata": {},
          "execution_count": 177
        }
      ]
    }
  ],
  "metadata": {
    "colab": {
      "collapsed_sections": [],
      "name": "hafez_model.ipynb",
      "provenance": []
    },
    "kernelspec": {
      "display_name": "Python 3",
      "name": "python3"
    },
    "language_info": {
      "name": "python"
    }
  },
  "nbformat": 4,
  "nbformat_minor": 0
}